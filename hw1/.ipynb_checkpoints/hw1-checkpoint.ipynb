{
 "cells": [
  {
   "cell_type": "code",
   "execution_count": 3,
   "id": "b201baf1-ec87-4d63-9b13-60ea53516d75",
   "metadata": {},
   "outputs": [],
   "source": [
    "import pandas as pd\n",
    "import numpy as np"
   ]
  },
  {
   "cell_type": "markdown",
   "id": "94d1a22b-fcc4-4f8a-a811-cae1ce6aa915",
   "metadata": {},
   "source": [
    "### q1"
   ]
  },
  {
   "cell_type": "code",
   "execution_count": 4,
   "id": "f43cb53d-d839-4be1-81e7-6b6207860b50",
   "metadata": {},
   "outputs": [
    {
     "data": {
      "text/plain": [
       "'2.3.3'"
      ]
     },
     "execution_count": 4,
     "metadata": {},
     "output_type": "execute_result"
    }
   ],
   "source": [
    "pd.__version__"
   ]
  },
  {
   "cell_type": "markdown",
   "id": "224df7e0-73c4-44d1-bbce-f6f06823850a",
   "metadata": {},
   "source": [
    "### q2"
   ]
  },
  {
   "cell_type": "code",
   "execution_count": 7,
   "id": "44df1a24-f90d-4285-8f19-1d0b0a5301e3",
   "metadata": {},
   "outputs": [],
   "source": [
    "df = pd.read_csv('./car_fuel_efficiency.csv')"
   ]
  },
  {
   "cell_type": "code",
   "execution_count": 8,
   "id": "99dadbb6-26d9-4159-909b-9358285b86ab",
   "metadata": {},
   "outputs": [
    {
     "data": {
      "text/plain": [
       "(9704, 11)"
      ]
     },
     "execution_count": 8,
     "metadata": {},
     "output_type": "execute_result"
    }
   ],
   "source": [
    "df.shape"
   ]
  },
  {
   "cell_type": "markdown",
   "id": "28ad7bac-cf28-4848-a9c8-06d831d45e60",
   "metadata": {},
   "source": [
    "### q3"
   ]
  },
  {
   "cell_type": "code",
   "execution_count": 10,
   "id": "d4402511-606e-40aa-a8ce-7430e07c56b9",
   "metadata": {},
   "outputs": [
    {
     "data": {
      "text/html": [
       "<div>\n",
       "<style scoped>\n",
       "    .dataframe tbody tr th:only-of-type {\n",
       "        vertical-align: middle;\n",
       "    }\n",
       "\n",
       "    .dataframe tbody tr th {\n",
       "        vertical-align: top;\n",
       "    }\n",
       "\n",
       "    .dataframe thead th {\n",
       "        text-align: right;\n",
       "    }\n",
       "</style>\n",
       "<table border=\"1\" class=\"dataframe\">\n",
       "  <thead>\n",
       "    <tr style=\"text-align: right;\">\n",
       "      <th></th>\n",
       "      <th>engine_displacement</th>\n",
       "      <th>num_cylinders</th>\n",
       "      <th>horsepower</th>\n",
       "      <th>vehicle_weight</th>\n",
       "      <th>acceleration</th>\n",
       "      <th>model_year</th>\n",
       "      <th>origin</th>\n",
       "      <th>fuel_type</th>\n",
       "      <th>drivetrain</th>\n",
       "      <th>num_doors</th>\n",
       "      <th>fuel_efficiency_mpg</th>\n",
       "    </tr>\n",
       "  </thead>\n",
       "  <tbody>\n",
       "    <tr>\n",
       "      <th>0</th>\n",
       "      <td>170</td>\n",
       "      <td>3.0</td>\n",
       "      <td>159.0</td>\n",
       "      <td>3413.433759</td>\n",
       "      <td>17.7</td>\n",
       "      <td>2003</td>\n",
       "      <td>Europe</td>\n",
       "      <td>Gasoline</td>\n",
       "      <td>All-wheel drive</td>\n",
       "      <td>0.0</td>\n",
       "      <td>13.231729</td>\n",
       "    </tr>\n",
       "    <tr>\n",
       "      <th>1</th>\n",
       "      <td>130</td>\n",
       "      <td>5.0</td>\n",
       "      <td>97.0</td>\n",
       "      <td>3149.664934</td>\n",
       "      <td>17.8</td>\n",
       "      <td>2007</td>\n",
       "      <td>USA</td>\n",
       "      <td>Gasoline</td>\n",
       "      <td>Front-wheel drive</td>\n",
       "      <td>0.0</td>\n",
       "      <td>13.688217</td>\n",
       "    </tr>\n",
       "  </tbody>\n",
       "</table>\n",
       "</div>"
      ],
      "text/plain": [
       "   engine_displacement  num_cylinders  horsepower  vehicle_weight  \\\n",
       "0                  170            3.0       159.0     3413.433759   \n",
       "1                  130            5.0        97.0     3149.664934   \n",
       "\n",
       "   acceleration  model_year  origin fuel_type         drivetrain  num_doors  \\\n",
       "0          17.7        2003  Europe  Gasoline    All-wheel drive        0.0   \n",
       "1          17.8        2007     USA  Gasoline  Front-wheel drive        0.0   \n",
       "\n",
       "   fuel_efficiency_mpg  \n",
       "0            13.231729  \n",
       "1            13.688217  "
      ]
     },
     "execution_count": 10,
     "metadata": {},
     "output_type": "execute_result"
    }
   ],
   "source": [
    "df.head(2)"
   ]
  },
  {
   "cell_type": "code",
   "execution_count": 11,
   "id": "68b5570e-d0c9-4f5d-b905-3d07bbfd005f",
   "metadata": {},
   "outputs": [
    {
     "data": {
      "text/plain": [
       "2"
      ]
     },
     "execution_count": 11,
     "metadata": {},
     "output_type": "execute_result"
    }
   ],
   "source": [
    "df.fuel_type.nunique()"
   ]
  },
  {
   "cell_type": "markdown",
   "id": "951d94e6-03da-4a14-a114-b310a314efa4",
   "metadata": {},
   "source": [
    "### q4"
   ]
  },
  {
   "cell_type": "code",
   "execution_count": 13,
   "id": "bcae2b5c-c41d-45c3-a16a-2ba8e70b67dc",
   "metadata": {},
   "outputs": [
    {
     "data": {
      "text/plain": [
       "engine_displacement      0\n",
       "num_cylinders          482\n",
       "horsepower             708\n",
       "vehicle_weight           0\n",
       "acceleration           930\n",
       "model_year               0\n",
       "origin                   0\n",
       "fuel_type                0\n",
       "drivetrain               0\n",
       "num_doors              502\n",
       "fuel_efficiency_mpg      0\n",
       "dtype: int64"
      ]
     },
     "execution_count": 13,
     "metadata": {},
     "output_type": "execute_result"
    }
   ],
   "source": [
    "df.isna().sum()"
   ]
  },
  {
   "cell_type": "markdown",
   "id": "bbe59fe9-3ee7-4353-a77b-ddf7f2c709a7",
   "metadata": {},
   "source": [
    "### q5"
   ]
  },
  {
   "cell_type": "code",
   "execution_count": 16,
   "id": "e7da82fa-ae26-42bb-adac-fc8a962f1614",
   "metadata": {},
   "outputs": [
    {
     "data": {
      "text/plain": [
       "np.float64(23.759122836520497)"
      ]
     },
     "execution_count": 16,
     "metadata": {},
     "output_type": "execute_result"
    }
   ],
   "source": [
    "df[df.origin == 'Asia'][\"fuel_efficiency_mpg\"].max()"
   ]
  },
  {
   "cell_type": "markdown",
   "id": "e32456da-0fc9-4c21-be72-bc7c90edc6e6",
   "metadata": {},
   "source": [
    "### q6"
   ]
  },
  {
   "cell_type": "code",
   "execution_count": 19,
   "id": "0db240d4-9211-453c-af21-957c91cd91a7",
   "metadata": {},
   "outputs": [
    {
     "data": {
      "text/plain": [
       "np.float64(149.0)"
      ]
     },
     "execution_count": 19,
     "metadata": {},
     "output_type": "execute_result"
    }
   ],
   "source": [
    "df.horsepower.median()"
   ]
  },
  {
   "cell_type": "code",
   "execution_count": 20,
   "id": "2b597cfa-9643-40ab-b4bb-092b2f50d874",
   "metadata": {},
   "outputs": [
    {
     "data": {
      "text/plain": [
       "0    152.0\n",
       "Name: horsepower, dtype: float64"
      ]
     },
     "execution_count": 20,
     "metadata": {},
     "output_type": "execute_result"
    }
   ],
   "source": [
    "df.horsepower.mode()"
   ]
  },
  {
   "cell_type": "code",
   "execution_count": 23,
   "id": "dddf9d11-cf4c-43db-85f8-7cae75742ac6",
   "metadata": {},
   "outputs": [],
   "source": [
    "df[\"horsepower\"] = df.horsepower.fillna(df.horsepower.mode())"
   ]
  },
  {
   "cell_type": "code",
   "execution_count": 24,
   "id": "02ef3d85-2892-4a7d-afe3-942656d7247b",
   "metadata": {},
   "outputs": [
    {
     "data": {
      "text/plain": [
       "np.float64(149.0)"
      ]
     },
     "execution_count": 24,
     "metadata": {},
     "output_type": "execute_result"
    }
   ],
   "source": [
    "df.horsepower.median()"
   ]
  },
  {
   "cell_type": "markdown",
   "id": "5be21d8a-c219-4fd0-8cde-7020cba26d52",
   "metadata": {},
   "source": [
    "### q7"
   ]
  },
  {
   "cell_type": "code",
   "execution_count": 68,
   "id": "77c4935c-6891-469b-9d47-d16e1b266241",
   "metadata": {},
   "outputs": [],
   "source": [
    "X = df.loc[df.origin == 'Asia', [\"vehicle_weight\", \"model_year\"]].head(7).values"
   ]
  },
  {
   "cell_type": "code",
   "execution_count": 72,
   "id": "19e19e04-1551-4c69-9ba8-eafdc252691a",
   "metadata": {},
   "outputs": [],
   "source": [
    "y = [1100, 1300, 800, 900, 1000, 1100, 1200]"
   ]
  },
  {
   "cell_type": "code",
   "execution_count": 73,
   "id": "584f2362-2ab5-424f-8f67-f16043787184",
   "metadata": {},
   "outputs": [],
   "source": [
    "XTX = np.matmul(X.T, X)"
   ]
  },
  {
   "cell_type": "code",
   "execution_count": 74,
   "id": "09594b6d-96c4-43e0-b909-72a91ec96542",
   "metadata": {},
   "outputs": [],
   "source": [
    "XTX = np.linalg.inv(XTX)"
   ]
  },
  {
   "cell_type": "code",
   "execution_count": 75,
   "id": "69ec7551-e35d-47c3-99b9-193d2d897b90",
   "metadata": {},
   "outputs": [],
   "source": [
    "res = np.matmul(XTX, X.T)"
   ]
  },
  {
   "cell_type": "code",
   "execution_count": 76,
   "id": "2e7c0ce0-68ad-4ed3-a740-62ff04fe9e87",
   "metadata": {},
   "outputs": [],
   "source": [
    "w = np.matmul(res, y)"
   ]
  },
  {
   "cell_type": "code",
   "execution_count": 77,
   "id": "e331ff7f-bc68-49ef-a8eb-31a81b66b21d",
   "metadata": {},
   "outputs": [
    {
     "data": {
      "text/plain": [
       "np.float64(0.5187709081074006)"
      ]
     },
     "execution_count": 77,
     "metadata": {},
     "output_type": "execute_result"
    }
   ],
   "source": [
    "w.sum()"
   ]
  },
  {
   "cell_type": "code",
   "execution_count": null,
   "id": "8c487993-0958-4357-b352-4646fd6deedb",
   "metadata": {},
   "outputs": [],
   "source": []
  }
 ],
 "metadata": {
  "kernelspec": {
   "display_name": "Python 3 (ipykernel)",
   "language": "python",
   "name": "python3"
  },
  "language_info": {
   "codemirror_mode": {
    "name": "ipython",
    "version": 3
   },
   "file_extension": ".py",
   "mimetype": "text/x-python",
   "name": "python",
   "nbconvert_exporter": "python",
   "pygments_lexer": "ipython3",
   "version": "3.11.13"
  }
 },
 "nbformat": 4,
 "nbformat_minor": 5
}
